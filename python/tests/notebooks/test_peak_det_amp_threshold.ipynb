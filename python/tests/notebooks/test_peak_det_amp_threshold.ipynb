{
 "cells": [
  {
   "cell_type": "code",
   "execution_count": 1,
   "metadata": {
    "ExecuteTime": {
     "end_time": "2023-08-12T01:27:28.035612900Z",
     "start_time": "2023-08-12T01:27:26.330568600Z"
    }
   },
   "outputs": [
    {
     "ename": "ModuleNotFoundError",
     "evalue": "No module named 'oset'",
     "output_type": "error",
     "traceback": [
      "\u001b[0;31m---------------------------------------------------------------------------\u001b[0m",
      "\u001b[0;31mModuleNotFoundError\u001b[0m                       Traceback (most recent call last)",
      "Cell \u001b[0;32mIn[1], line 4\u001b[0m\n\u001b[1;32m      2\u001b[0m \u001b[38;5;28;01mimport\u001b[39;00m \u001b[38;5;21;01mnumpy\u001b[39;00m \u001b[38;5;28;01mas\u001b[39;00m \u001b[38;5;21;01mnp\u001b[39;00m\n\u001b[1;32m      3\u001b[0m \u001b[38;5;28;01mimport\u001b[39;00m \u001b[38;5;21;01mmatplotlib\u001b[39;00m\u001b[38;5;21;01m.\u001b[39;00m\u001b[38;5;21;01mpyplot\u001b[39;00m \u001b[38;5;28;01mas\u001b[39;00m \u001b[38;5;21;01mplt\u001b[39;00m\n\u001b[0;32m----> 4\u001b[0m \u001b[38;5;28;01mfrom\u001b[39;00m \u001b[38;5;21;01moset\u001b[39;00m\u001b[38;5;21;01m.\u001b[39;00m\u001b[38;5;21;01mgeneric\u001b[39;00m\u001b[38;5;21;01m.\u001b[39;00m\u001b[38;5;21;01mlp_filter\u001b[39;00m\u001b[38;5;21;01m.\u001b[39;00m\u001b[38;5;21;01mlp_filter_zero_phase\u001b[39;00m \u001b[38;5;28;01mimport\u001b[39;00m lp_filter_zero_phase\n\u001b[1;32m      5\u001b[0m \u001b[38;5;28;01mfrom\u001b[39;00m \u001b[38;5;21;01moset\u001b[39;00m\u001b[38;5;21;01m.\u001b[39;00m\u001b[38;5;21;01mecg\u001b[39;00m\u001b[38;5;21;01m.\u001b[39;00m\u001b[38;5;21;01mpeak_detection\u001b[39;00m\u001b[38;5;21;01m.\u001b[39;00m\u001b[38;5;21;01mpeak_det_amp_threshold\u001b[39;00m \u001b[38;5;28;01mimport\u001b[39;00m (\n\u001b[1;32m      6\u001b[0m     peak_det_amp_threshold,\n\u001b[1;32m      7\u001b[0m )\n",
      "\u001b[0;31mModuleNotFoundError\u001b[0m: No module named 'oset'"
     ]
    }
   ],
   "source": [
    "import scipy.io\n",
    "import numpy as np\n",
    "import matplotlib.pyplot as plt\n",
    "from oset.generic.lp_filter.lp_filter_zero_phase import lp_filter_zero_phase\n",
    "from oset.ecg.peak_detection.peak_det_amp_threshold import (\n",
    "    peak_det_amp_threshold,\n",
    ")"
   ]
  },
  {
   "cell_type": "code",
   "execution_count": null,
   "metadata": {
    "ExecuteTime": {
     "end_time": "2023-08-12T01:27:28.158762600Z",
     "start_time": "2023-08-12T01:27:28.044528Z"
    },
    "collapsed": false,
    "jupyter": {
     "outputs_hidden": false
    }
   },
   "outputs": [],
   "source": [
    "mat = scipy.io.loadmat(\"../../../datasets/sample-data/SampleECG1.mat\")[\"data\"][0]\n",
    "f = 1\n",
    "fc = 0.5\n",
    "fs = 1000\n",
    "\n",
    "mat = mat - lp_filter_zero_phase(mat, fc / fs)\n",
    "\n",
    "t = np.arange(len(mat)) / fs\n",
    "peaks, peak_indexes = peak_det_amp_threshold(mat, f / fs, 0)"
   ]
  },
  {
   "cell_type": "code",
   "execution_count": null,
   "metadata": {
    "ExecuteTime": {
     "end_time": "2023-08-12T01:27:28.530245900Z",
     "start_time": "2023-08-12T01:27:28.162759800Z"
    }
   },
   "outputs": [],
   "source": [
    "plt.figure()\n",
    "plt.figure(figsize=(12, 5))\n",
    "plt.plot(t, mat, \"b\", label=\"ECG\")\n",
    "plt.plot(t[peak_indexes], mat[peak_indexes], \"ro\", label=\"ECG Peaks (max detection)\")\n",
    "plt.xlabel(\"time (sec.)\")\n",
    "plt.legend()\n",
    "plt.grid()\n",
    "plt.show()"
   ]
  },
  {
   "cell_type": "code",
   "execution_count": null,
   "metadata": {
    "ExecuteTime": {
     "end_time": "2023-08-12T01:27:28.652938600Z",
     "start_time": "2023-08-12T01:27:28.531243500Z"
    },
    "tags": []
   },
   "outputs": [],
   "source": [
    "# neglect some peaks\n",
    "peaks, peak_indexes = peak_det_amp_threshold(mat, f / fs, 0.9)"
   ]
  },
  {
   "cell_type": "code",
   "execution_count": null,
   "metadata": {
    "ExecuteTime": {
     "end_time": "2023-08-12T01:27:29.413170200Z",
     "start_time": "2023-08-12T01:27:28.656981500Z"
    },
    "collapsed": false,
    "jupyter": {
     "outputs_hidden": false
    },
    "tags": []
   },
   "outputs": [],
   "source": [
    "plt.figure()\n",
    "plt.figure(figsize=(12, 5))\n",
    "plt.plot(t, mat, \"b\", label=\"ECG\")\n",
    "plt.plot(t[peak_indexes], mat[peak_indexes], \"ro\", label=\"ECG Peaks (max detection)\")\n",
    "plt.xlabel(\"time (sec.)\")\n",
    "plt.legend()\n",
    "plt.grid()\n",
    "plt.show()"
   ]
  }
 ],
 "metadata": {
  "kernelspec": {
   "display_name": "Python 3 (ipykernel)",
   "language": "python",
   "name": "python3"
  },
  "language_info": {
   "codemirror_mode": {
    "name": "ipython",
    "version": 3
   },
   "file_extension": ".py",
   "mimetype": "text/x-python",
   "name": "python",
   "nbconvert_exporter": "python",
   "pygments_lexer": "ipython3",
   "version": "3.10.13"
  }
 },
 "nbformat": 4,
 "nbformat_minor": 4
}
